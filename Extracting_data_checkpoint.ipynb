{
  "cells": [
    {
      "cell_type": "markdown",
      "metadata": {
        "id": "view-in-github",
        "colab_type": "text"
      },
      "source": [
        "<a href=\"https://colab.research.google.com/github/MirzaSaniya/Extracting-Data-from-Python-and-SQL-Saniya-Mirza/blob/main/Extracting_data_checkpoint.ipynb\" target=\"_parent\"><img src=\"https://colab.research.google.com/assets/colab-badge.svg\" alt=\"Open In Colab\"/></a>"
      ]
    },
    {
      "cell_type": "markdown",
      "metadata": {
        "id": "UAB1W7ekuejj"
      },
      "source": [
        "### Reading data\n",
        "* Pandas support ingesting data from a variety of sources\n",
        "  * Flat file\n",
        "      * read_csv()\n",
        "      * read_table()\n",
        "      * read_fwf()\n",
        "      * read_msgpack()\n",
        "  * Excel\n",
        "      * read_excel()\n",
        "  * JSON/HTML\n",
        "      * read_json()\n",
        "      * read_html()\n",
        "  * SQL\n",
        "      * read_sql()\n",
        "      * read_sql_table()\n",
        "      * read_sql_query()\n",
        "  * Other\n",
        "      * read_feather()\n",
        "      * read_hdf()\n",
        "      * read_sas()\n",
        "      * read_feather()\n",
        "      * read_pickle()\n",
        "      * read_gbq\n",
        "* Supplementary reading\n",
        "  * https://pandas.pydata.org/pandas-docs/stable/api.html#input-output"
      ]
    },
    {
      "cell_type": "markdown",
      "metadata": {
        "id": "y54tuL6duekf"
      },
      "source": [
        "#### Flat files\n",
        "* Flat files refer to local or remote files that have tabular data in them\n",
        "* Properties\n",
        "  * Each line refers to a single row\n",
        "  * Each entry in the line corresponds to a single column value\n",
        "  * Entries are separate by a **delimiter**\n",
        "* Allowed locations\n",
        "  * local file system\n",
        "  * url\n",
        "    * http\n",
        "    * ftp\n",
        "    * s3\n",
        "    "
      ]
    },
    {
      "cell_type": "code",
      "execution_count": null,
      "metadata": {
        "id": "I5MsoOS7uekg",
        "outputId": "fb3eaf80-a60e-412c-904c-b9cfada4b4d7"
      },
      "outputs": [
        {
          "name": "stdout",
          "output_type": "stream",
          "text": [
            "Name\tProfession\r\n",
            "Sharat\tData scientist\r\n",
            "Bill Gates\tPhilanthropist\r\n",
            "Tom Brady\tAthlete\r\n",
            "Bill Nye\tPresenter\r\n"
          ]
        }
      ],
      "source": [
        "!cat names.txt"
      ]
    },
    {
      "cell_type": "code",
      "execution_count": null,
      "metadata": {
        "id": "YsGBrP1uueky",
        "outputId": "5d805bbf-8abc-4baa-defd-2890115a7971"
      },
      "outputs": [
        {
          "data": {
            "text/html": [
              "<div>\n",
              "<style scoped>\n",
              "    .dataframe tbody tr th:only-of-type {\n",
              "        vertical-align: middle;\n",
              "    }\n",
              "\n",
              "    .dataframe tbody tr th {\n",
              "        vertical-align: top;\n",
              "    }\n",
              "\n",
              "    .dataframe thead th {\n",
              "        text-align: right;\n",
              "    }\n",
              "</style>\n",
              "<table border=\"1\" class=\"dataframe\">\n",
              "  <thead>\n",
              "    <tr style=\"text-align: right;\">\n",
              "      <th></th>\n",
              "      <th>Name</th>\n",
              "      <th>Profession</th>\n",
              "    </tr>\n",
              "  </thead>\n",
              "  <tbody>\n",
              "    <tr>\n",
              "      <th>0</th>\n",
              "      <td>Sharat</td>\n",
              "      <td>Data scientist</td>\n",
              "    </tr>\n",
              "    <tr>\n",
              "      <th>1</th>\n",
              "      <td>Bill Gates</td>\n",
              "      <td>Philanthropist</td>\n",
              "    </tr>\n",
              "    <tr>\n",
              "      <th>2</th>\n",
              "      <td>Tom Brady</td>\n",
              "      <td>Athlete</td>\n",
              "    </tr>\n",
              "    <tr>\n",
              "      <th>3</th>\n",
              "      <td>Bill Nye</td>\n",
              "      <td>Presenter</td>\n",
              "    </tr>\n",
              "  </tbody>\n",
              "</table>\n",
              "</div>"
            ],
            "text/plain": [
              "         Name      Profession\n",
              "0      Sharat  Data scientist\n",
              "1  Bill Gates  Philanthropist\n",
              "2   Tom Brady         Athlete\n",
              "3    Bill Nye       Presenter"
            ]
          },
          "execution_count": 7,
          "metadata": {},
          "output_type": "execute_result"
        }
      ],
      "source": [
        "import pandas as pd\n",
        "df = pd.read_table(\n",
        "    'names.txt',  # path/url to the file\n",
        "    sep='\\t',      # specify separator between columns\n",
        "    header=0)     # row containing column names\n",
        "df"
      ]
    },
    {
      "cell_type": "code",
      "execution_count": null,
      "metadata": {
        "id": "0HsAO9oXuekz",
        "outputId": "846d950a-8b8f-4fbf-82d7-06dbad94e0bd"
      },
      "outputs": [
        {
          "data": {
            "text/html": [
              "<div>\n",
              "<style scoped>\n",
              "    .dataframe tbody tr th:only-of-type {\n",
              "        vertical-align: middle;\n",
              "    }\n",
              "\n",
              "    .dataframe tbody tr th {\n",
              "        vertical-align: top;\n",
              "    }\n",
              "\n",
              "    .dataframe thead th {\n",
              "        text-align: right;\n",
              "    }\n",
              "</style>\n",
              "<table border=\"1\" class=\"dataframe\">\n",
              "  <thead>\n",
              "    <tr style=\"text-align: right;\">\n",
              "      <th></th>\n",
              "      <th>Full name</th>\n",
              "      <th>Current profession</th>\n",
              "    </tr>\n",
              "  </thead>\n",
              "  <tbody>\n",
              "    <tr>\n",
              "      <th>0</th>\n",
              "      <td>Sharat</td>\n",
              "      <td>Data scientist</td>\n",
              "    </tr>\n",
              "    <tr>\n",
              "      <th>1</th>\n",
              "      <td>Bill Gates</td>\n",
              "      <td>Philanthropist</td>\n",
              "    </tr>\n",
              "    <tr>\n",
              "      <th>2</th>\n",
              "      <td>Tom Brady</td>\n",
              "      <td>Athlete</td>\n",
              "    </tr>\n",
              "    <tr>\n",
              "      <th>3</th>\n",
              "      <td>Bill Nye</td>\n",
              "      <td>Presenter</td>\n",
              "    </tr>\n",
              "  </tbody>\n",
              "</table>\n",
              "</div>"
            ],
            "text/plain": [
              "    Full name Current profession\n",
              "0      Sharat     Data scientist\n",
              "1  Bill Gates     Philanthropist\n",
              "2   Tom Brady            Athlete\n",
              "3    Bill Nye          Presenter"
            ]
          },
          "execution_count": 8,
          "metadata": {},
          "output_type": "execute_result"
        }
      ],
      "source": [
        "# We can override column names\n",
        "df = pd.read_table(\n",
        "    'names.txt',\n",
        "    header=0,\n",
        "    names=['Full name', 'Current profession'])\n",
        "df"
      ]
    },
    {
      "cell_type": "markdown",
      "metadata": {
        "id": "n0bf6cjEuek2"
      },
      "source": [
        "* Important options for read_table()/read_csv()\n",
        "  * true_values: list of values that mean True\n",
        "  * false_values: list of values that mean False\n",
        "  * na_values : list of values thatmean NA/NAN\n",
        "  * usecols: list of column indices or names to read\n",
        "  * parse_dates: boolean or list of intes or names of columns to consider for\n",
        "      parsing dates\n",
        "  * nrows: number of rows to read\n",
        "  * compression: 'infer', 'gzip', 'bz2', 'zip', 'xz'\n",
        "  * comment: comment indicator. Rest of the line is skipped\n",
        "  * dtypes: Both read_table() and read_csv() infer the data type from the values available. Data types can be explicity specified as a dict of column name: numpy dtype"
      ]
    },
    {
      "cell_type": "markdown",
      "metadata": {
        "id": "MDE5IrPfuek3"
      },
      "source": [
        "#### CSV files\n",
        "* CSV (Comma separated values) are format of choice to exchange tabular data\n",
        "    * Each line corresponds to a row\n",
        "    * Each entry in the line corresponds to a column\n",
        "    * Entries are separated by comma (,)\n",
        "    * The first row contains the names of the columns\n",
        "* Its a special case of tabular data with sep=','"
      ]
    },
    {
      "cell_type": "code",
      "execution_count": null,
      "metadata": {
        "id": "n5oHzcbVuek4",
        "outputId": "0c090205-cae0-4bbf-b671-67487691d740"
      },
      "outputs": [
        {
          "name": "stdout",
          "output_type": "stream",
          "text": [
            "Name,Profession\r\n",
            "Sharat,Data scientist\r\n",
            "Bill Gates,Philanthropist\r\n",
            "Tom Brady,Athlete\r\n",
            "Bill Nye,Presenter\r\n"
          ]
        }
      ],
      "source": [
        "!cat names.csv"
      ]
    },
    {
      "cell_type": "code",
      "execution_count": null,
      "metadata": {
        "id": "cWKcpB7ruek5",
        "outputId": "d549d6ff-0f9a-4dc0-8d60-4cda128f7a6a"
      },
      "outputs": [
        {
          "data": {
            "text/html": [
              "<div>\n",
              "<style scoped>\n",
              "    .dataframe tbody tr th:only-of-type {\n",
              "        vertical-align: middle;\n",
              "    }\n",
              "\n",
              "    .dataframe tbody tr th {\n",
              "        vertical-align: top;\n",
              "    }\n",
              "\n",
              "    .dataframe thead th {\n",
              "        text-align: right;\n",
              "    }\n",
              "</style>\n",
              "<table border=\"1\" class=\"dataframe\">\n",
              "  <thead>\n",
              "    <tr style=\"text-align: right;\">\n",
              "      <th></th>\n",
              "      <th>Name</th>\n",
              "      <th>Profession</th>\n",
              "    </tr>\n",
              "  </thead>\n",
              "  <tbody>\n",
              "    <tr>\n",
              "      <th>0</th>\n",
              "      <td>Sharat</td>\n",
              "      <td>Data scientist</td>\n",
              "    </tr>\n",
              "    <tr>\n",
              "      <th>1</th>\n",
              "      <td>Bill Gates</td>\n",
              "      <td>Philanthropist</td>\n",
              "    </tr>\n",
              "    <tr>\n",
              "      <th>2</th>\n",
              "      <td>Tom Brady</td>\n",
              "      <td>Athlete</td>\n",
              "    </tr>\n",
              "    <tr>\n",
              "      <th>3</th>\n",
              "      <td>Bill Nye</td>\n",
              "      <td>Presenter</td>\n",
              "    </tr>\n",
              "  </tbody>\n",
              "</table>\n",
              "</div>"
            ],
            "text/plain": [
              "         Name      Profession\n",
              "0      Sharat  Data scientist\n",
              "1  Bill Gates  Philanthropist\n",
              "2   Tom Brady         Athlete\n",
              "3    Bill Nye       Presenter"
            ]
          },
          "execution_count": 10,
          "metadata": {},
          "output_type": "execute_result"
        }
      ],
      "source": [
        "df = pd.read_csv('names.csv')\n",
        "df"
      ]
    },
    {
      "cell_type": "code",
      "execution_count": null,
      "metadata": {
        "id": "8YhR0SF-uek5",
        "outputId": "cfee5a38-97c1-4aad-de82-1821802d06ee"
      },
      "outputs": [
        {
          "data": {
            "text/html": [
              "<div>\n",
              "<style scoped>\n",
              "    .dataframe tbody tr th:only-of-type {\n",
              "        vertical-align: middle;\n",
              "    }\n",
              "\n",
              "    .dataframe tbody tr th {\n",
              "        vertical-align: top;\n",
              "    }\n",
              "\n",
              "    .dataframe thead th {\n",
              "        text-align: right;\n",
              "    }\n",
              "</style>\n",
              "<table border=\"1\" class=\"dataframe\">\n",
              "  <thead>\n",
              "    <tr style=\"text-align: right;\">\n",
              "      <th></th>\n",
              "      <th>sepal_length</th>\n",
              "      <th>sepal_width</th>\n",
              "      <th>petal_length</th>\n",
              "      <th>petal_width</th>\n",
              "      <th>species</th>\n",
              "    </tr>\n",
              "  </thead>\n",
              "  <tbody>\n",
              "    <tr>\n",
              "      <th>0</th>\n",
              "      <td>5.1</td>\n",
              "      <td>3.5</td>\n",
              "      <td>1.4</td>\n",
              "      <td>0.2</td>\n",
              "      <td>setosa</td>\n",
              "    </tr>\n",
              "    <tr>\n",
              "      <th>1</th>\n",
              "      <td>4.9</td>\n",
              "      <td>3.0</td>\n",
              "      <td>1.4</td>\n",
              "      <td>0.2</td>\n",
              "      <td>setosa</td>\n",
              "    </tr>\n",
              "    <tr>\n",
              "      <th>2</th>\n",
              "      <td>4.7</td>\n",
              "      <td>3.2</td>\n",
              "      <td>1.3</td>\n",
              "      <td>0.2</td>\n",
              "      <td>setosa</td>\n",
              "    </tr>\n",
              "    <tr>\n",
              "      <th>3</th>\n",
              "      <td>4.6</td>\n",
              "      <td>3.1</td>\n",
              "      <td>1.5</td>\n",
              "      <td>0.2</td>\n",
              "      <td>setosa</td>\n",
              "    </tr>\n",
              "    <tr>\n",
              "      <th>4</th>\n",
              "      <td>5.0</td>\n",
              "      <td>3.6</td>\n",
              "      <td>1.4</td>\n",
              "      <td>0.2</td>\n",
              "      <td>setosa</td>\n",
              "    </tr>\n",
              "  </tbody>\n",
              "</table>\n",
              "</div>"
            ],
            "text/plain": [
              "   sepal_length  sepal_width  petal_length  petal_width species\n",
              "0           5.1          3.5           1.4          0.2  setosa\n",
              "1           4.9          3.0           1.4          0.2  setosa\n",
              "2           4.7          3.2           1.3          0.2  setosa\n",
              "3           4.6          3.1           1.5          0.2  setosa\n",
              "4           5.0          3.6           1.4          0.2  setosa"
            ]
          },
          "execution_count": 11,
          "metadata": {},
          "output_type": "execute_result"
        }
      ],
      "source": [
        "# Remote location\n",
        "df = pd.read_csv(\n",
        "    'https://raw.githubusercontent.com/mwaskom/seaborn-data/master/iris.csv'\n",
        ")\n",
        "df.head()"
      ]
    },
    {
      "cell_type": "markdown",
      "metadata": {
        "id": "hT8fShRhuek6"
      },
      "source": [
        "#### Excel file\n",
        "* Flat files are organized into 'row's and 'column's\n",
        "* Excel files are organized\n",
        "  * sheet\n",
        "  * row\n",
        "  * column\n",
        "* A single sheet correspondns to one or more sets of tabular data\n",
        "* Example\n",
        "<table>\n",
        "<td><img src=\"excel_file.png\"></td>\n",
        "<td><img src=\"excel_file_2.png\"></td>\n",
        "</table>"
      ]
    },
    {
      "cell_type": "code",
      "execution_count": null,
      "metadata": {
        "id": "RVXJaWguuek6",
        "outputId": "c369227e-53e1-4fd3-b813-ac79791dadd9"
      },
      "outputs": [
        {
          "name": "stderr",
          "output_type": "stream",
          "text": [
            "/Users/schikkerur/anaconda2/lib/python2.7/site-packages/pandas/util/_decorators.py:118: FutureWarning: The `sheetname` keyword is deprecated, use `sheet_name` instead\n",
            "  return func(*args, **kwargs)\n"
          ]
        },
        {
          "data": {
            "text/html": [
              "<div>\n",
              "<style scoped>\n",
              "    .dataframe tbody tr th:only-of-type {\n",
              "        vertical-align: middle;\n",
              "    }\n",
              "\n",
              "    .dataframe tbody tr th {\n",
              "        vertical-align: top;\n",
              "    }\n",
              "\n",
              "    .dataframe thead th {\n",
              "        text-align: right;\n",
              "    }\n",
              "</style>\n",
              "<table border=\"1\" class=\"dataframe\">\n",
              "  <thead>\n",
              "    <tr style=\"text-align: right;\">\n",
              "      <th></th>\n",
              "      <th>First Name</th>\n",
              "      <th>Last Name</th>\n",
              "      <th>Profession</th>\n",
              "    </tr>\n",
              "  </thead>\n",
              "  <tbody>\n",
              "    <tr>\n",
              "      <th>0</th>\n",
              "      <td>Sharat</td>\n",
              "      <td>Chikkerur</td>\n",
              "      <td>Data scientist</td>\n",
              "    </tr>\n",
              "    <tr>\n",
              "      <th>1</th>\n",
              "      <td>Tom</td>\n",
              "      <td>Brady</td>\n",
              "      <td>Athlete</td>\n",
              "    </tr>\n",
              "    <tr>\n",
              "      <th>2</th>\n",
              "      <td>Bill</td>\n",
              "      <td>Nye</td>\n",
              "      <td>TV Personality</td>\n",
              "    </tr>\n",
              "    <tr>\n",
              "      <th>3</th>\n",
              "      <td>Bill</td>\n",
              "      <td>Gates</td>\n",
              "      <td>Philanthropist</td>\n",
              "    </tr>\n",
              "  </tbody>\n",
              "</table>\n",
              "</div>"
            ],
            "text/plain": [
              "  First Name  Last Name      Profession\n",
              "0     Sharat  Chikkerur  Data scientist\n",
              "1        Tom      Brady         Athlete\n",
              "2       Bill        Nye  TV Personality\n",
              "3       Bill      Gates  Philanthropist"
            ]
          },
          "execution_count": 12,
          "metadata": {},
          "output_type": "execute_result"
        }
      ],
      "source": [
        "profession_df = pd.read_excel(\n",
        "    'profession_and_age.xlsx', # location or url to the file\n",
        "    sheetname='Profession' #name of the sheet\n",
        ")\n",
        "profession_df"
      ]
    },
    {
      "cell_type": "code",
      "execution_count": null,
      "metadata": {
        "id": "X7ikub5vuek6",
        "outputId": "5a1cfeac-b6f0-423e-bc9a-f3bf0e42aeb4"
      },
      "outputs": [
        {
          "data": {
            "text/html": [
              "<div>\n",
              "<style scoped>\n",
              "    .dataframe tbody tr th:only-of-type {\n",
              "        vertical-align: middle;\n",
              "    }\n",
              "\n",
              "    .dataframe tbody tr th {\n",
              "        vertical-align: top;\n",
              "    }\n",
              "\n",
              "    .dataframe thead th {\n",
              "        text-align: right;\n",
              "    }\n",
              "</style>\n",
              "<table border=\"1\" class=\"dataframe\">\n",
              "  <thead>\n",
              "    <tr style=\"text-align: right;\">\n",
              "      <th></th>\n",
              "      <th>First Name</th>\n",
              "      <th>Last Name</th>\n",
              "      <th>Age</th>\n",
              "    </tr>\n",
              "  </thead>\n",
              "  <tbody>\n",
              "    <tr>\n",
              "      <th>0</th>\n",
              "      <td>Sharat</td>\n",
              "      <td>Chikkerur</td>\n",
              "      <td>38</td>\n",
              "    </tr>\n",
              "    <tr>\n",
              "      <th>1</th>\n",
              "      <td>Tom</td>\n",
              "      <td>Brady</td>\n",
              "      <td>40</td>\n",
              "    </tr>\n",
              "    <tr>\n",
              "      <th>2</th>\n",
              "      <td>Bill</td>\n",
              "      <td>Nye</td>\n",
              "      <td>62</td>\n",
              "    </tr>\n",
              "    <tr>\n",
              "      <th>3</th>\n",
              "      <td>Barack</td>\n",
              "      <td>Obama</td>\n",
              "      <td>56</td>\n",
              "    </tr>\n",
              "  </tbody>\n",
              "</table>\n",
              "</div>"
            ],
            "text/plain": [
              "  First Name  Last Name  Age\n",
              "0     Sharat  Chikkerur   38\n",
              "1        Tom      Brady   40\n",
              "2       Bill        Nye   62\n",
              "3     Barack      Obama   56"
            ]
          },
          "execution_count": 13,
          "metadata": {},
          "output_type": "execute_result"
        }
      ],
      "source": [
        "age_df = pd.read_excel(\n",
        "    'profession_and_age.xlsx', # location or url to the file\n",
        "    sheetname='Age' #name of the sheet\n",
        ")\n",
        "age_df"
      ]
    },
    {
      "cell_type": "code",
      "execution_count": null,
      "metadata": {
        "id": "kQtVtTOfuek7",
        "outputId": "01f76b56-9227-43e5-dad0-881a8bb30195"
      },
      "outputs": [
        {
          "data": {
            "text/html": [
              "<div>\n",
              "<style scoped>\n",
              "    .dataframe tbody tr th:only-of-type {\n",
              "        vertical-align: middle;\n",
              "    }\n",
              "\n",
              "    .dataframe tbody tr th {\n",
              "        vertical-align: top;\n",
              "    }\n",
              "\n",
              "    .dataframe thead th {\n",
              "        text-align: right;\n",
              "    }\n",
              "</style>\n",
              "<table border=\"1\" class=\"dataframe\">\n",
              "  <thead>\n",
              "    <tr style=\"text-align: right;\">\n",
              "      <th></th>\n",
              "      <th>First Name</th>\n",
              "      <th>Last Name</th>\n",
              "      <th>Profession</th>\n",
              "      <th>Age</th>\n",
              "    </tr>\n",
              "  </thead>\n",
              "  <tbody>\n",
              "    <tr>\n",
              "      <th>0</th>\n",
              "      <td>Sharat</td>\n",
              "      <td>Chikkerur</td>\n",
              "      <td>Data scientist</td>\n",
              "      <td>38.0</td>\n",
              "    </tr>\n",
              "    <tr>\n",
              "      <th>1</th>\n",
              "      <td>Tom</td>\n",
              "      <td>Brady</td>\n",
              "      <td>Athlete</td>\n",
              "      <td>40.0</td>\n",
              "    </tr>\n",
              "    <tr>\n",
              "      <th>2</th>\n",
              "      <td>Bill</td>\n",
              "      <td>Nye</td>\n",
              "      <td>TV Personality</td>\n",
              "      <td>62.0</td>\n",
              "    </tr>\n",
              "    <tr>\n",
              "      <th>3</th>\n",
              "      <td>Bill</td>\n",
              "      <td>Gates</td>\n",
              "      <td>Philanthropist</td>\n",
              "      <td>NaN</td>\n",
              "    </tr>\n",
              "    <tr>\n",
              "      <th>4</th>\n",
              "      <td>Barack</td>\n",
              "      <td>Obama</td>\n",
              "      <td>NaN</td>\n",
              "      <td>56.0</td>\n",
              "    </tr>\n",
              "  </tbody>\n",
              "</table>\n",
              "</div>"
            ],
            "text/plain": [
              "  First Name  Last Name      Profession   Age\n",
              "0     Sharat  Chikkerur  Data scientist  38.0\n",
              "1        Tom      Brady         Athlete  40.0\n",
              "2       Bill        Nye  TV Personality  62.0\n",
              "3       Bill      Gates  Philanthropist   NaN\n",
              "4     Barack      Obama             NaN  56.0"
            ]
          },
          "execution_count": 14,
          "metadata": {},
          "output_type": "execute_result"
        }
      ],
      "source": [
        "profession_df.merge(age_df, on=['First Name', 'Last Name'], how='outer')"
      ]
    },
    {
      "cell_type": "markdown",
      "metadata": {
        "id": "dkjyLBThuelJ"
      },
      "source": [
        "#### Additional options\n",
        "```python\n",
        "pandas.read_excel(io, sheet_name=0, header=0, skiprows=None, skip_footer=0, index_col=None, names=None, usecols=None, parse_dates=False, date_parser=None, na_values=None, thousands=None, convert_float=True, converters=None, dtype=None, true_values=None, false_values=None, engine=None, squeeze=False, **kwds)\n",
        "```\n",
        "* **skiprows** : Rows to skip in the beginning\n",
        "* **skip_footer**: Rows to skip in the end\n",
        "* **names** : List of column names to use\n",
        "* **header** : None if there is no header, otherwise row number to use\n",
        "* **usecols** : Selectively include columns\n",
        "* **na_values** : Additional string to recognize as NA\n",
        "\n",
        "* Supplementary reading\n",
        "https://pandas.pydata.org/pandas-docs/stable/generated/pandas.read_excel.htm"
      ]
    },
    {
      "cell_type": "markdown",
      "metadata": {
        "id": "-JAgA6m3uelN"
      },
      "source": [
        "### Reading data from SQL\n",
        "* SQL sources store data in relational form\n",
        "  * Data is organized into databases\n",
        "  * Each database consists of one or more tables\n",
        "  * Each table consists of rows and columns\n",
        "* Benefits of SQL\n",
        "  * Tables can be logically linked using joins\n",
        "  * Row and column subsets can be expressed through SQL queries\n",
        "* Pandas\n",
        "  * pandas.io.sql module provides a collection of wrappers to connect to SQL databases\n",
        "  * Its abstracts the DB specific APIs (requires sqlalchemy to be installed)\n",
        "  * Steps\n",
        "    * Create a connection using sqlalchemy.create_connection()\n",
        "    * Access data using table name or query\n",
        "        * read_sql_table()\n",
        "        * read_sql_query()\n",
        "        * read_sql()"
      ]
    },
    {
      "cell_type": "markdown",
      "metadata": {
        "id": "29ae_FncuelP"
      },
      "source": [
        "### Accessing  databases\n",
        "* For this exercise, we will try to access a local SQL database using sqlite.\n",
        "* Procedure to access remote database are similar.\n",
        "* The local database was created in SQLite using the following\n",
        "```sql\n",
        "sqlite> .open profession_and_age\n",
        "sqlite> create table profession(first_name varchar ,last_name varchar, profession varchar);\n",
        "sqlite> create table age(first_name varchar, last_name varchar, age int);\n",
        "sqlite> insert into profession values ((\"Sharat\", \"Chikkerur\", \"Data scientist\"), (\"Tom\", \"Brady\", \"Athlete\"), (\"Bill\", \"Nye\", \"TV Personality\"), (\"Bill\", \"Gates\", \"Philanthropist\"));\n",
        "Error: table profession has 3 columns but 4 values were supplied\n",
        "sqlite> insert into profession values (\"Sharat\", \"Chikkerur\", \"Data scientist\"), (\"Tom\", \"Brady\", \"Athlete\"), (\"Bill\", \"Nye\", \"TV Personality\"), (\"Bill\", \"Gates\", \"Philanthropist\");\n",
        "sqlite> insert into age values(\"Sharat\",\"Chikkerur\", 38), (\"Tom\", \"Brady\", 40), (\"Bill\", \"Nye\", 62), (\"Barack\", \"Obama\", 56);\n",
        "```"
      ]
    },
    {
      "cell_type": "code",
      "execution_count": null,
      "metadata": {
        "id": "1PNYv-QCuelQ"
      },
      "outputs": [],
      "source": [
        "from sqlalchemy import create_engine\n",
        "engine = create_engine(\"sqlite:///profession_and_age\")"
      ]
    },
    {
      "cell_type": "code",
      "execution_count": null,
      "metadata": {
        "id": "eu5yXCdIuelR",
        "outputId": "c56bd3eb-9cd9-42f7-ed77-1878d8d4402c"
      },
      "outputs": [
        {
          "data": {
            "text/html": [
              "<div>\n",
              "<style scoped>\n",
              "    .dataframe tbody tr th:only-of-type {\n",
              "        vertical-align: middle;\n",
              "    }\n",
              "\n",
              "    .dataframe tbody tr th {\n",
              "        vertical-align: top;\n",
              "    }\n",
              "\n",
              "    .dataframe thead th {\n",
              "        text-align: right;\n",
              "    }\n",
              "</style>\n",
              "<table border=\"1\" class=\"dataframe\">\n",
              "  <thead>\n",
              "    <tr style=\"text-align: right;\">\n",
              "      <th></th>\n",
              "      <th>first_name</th>\n",
              "      <th>last_name</th>\n",
              "      <th>profession</th>\n",
              "    </tr>\n",
              "  </thead>\n",
              "  <tbody>\n",
              "    <tr>\n",
              "      <th>0</th>\n",
              "      <td>Sharat</td>\n",
              "      <td>Chikkerur</td>\n",
              "      <td>Data scientist</td>\n",
              "    </tr>\n",
              "    <tr>\n",
              "      <th>1</th>\n",
              "      <td>Tom</td>\n",
              "      <td>Brady</td>\n",
              "      <td>Athlete</td>\n",
              "    </tr>\n",
              "    <tr>\n",
              "      <th>2</th>\n",
              "      <td>Bill</td>\n",
              "      <td>Nye</td>\n",
              "      <td>TV Personality</td>\n",
              "    </tr>\n",
              "    <tr>\n",
              "      <th>3</th>\n",
              "      <td>Bill</td>\n",
              "      <td>Gates</td>\n",
              "      <td>Philanthropist</td>\n",
              "    </tr>\n",
              "  </tbody>\n",
              "</table>\n",
              "</div>"
            ],
            "text/plain": [
              "  first_name  last_name      profession\n",
              "0     Sharat  Chikkerur  Data scientist\n",
              "1        Tom      Brady         Athlete\n",
              "2       Bill        Nye  TV Personality\n",
              "3       Bill      Gates  Philanthropist"
            ]
          },
          "execution_count": 16,
          "metadata": {},
          "output_type": "execute_result"
        }
      ],
      "source": [
        "pd.read_sql_table('profession', engine)"
      ]
    },
    {
      "cell_type": "code",
      "execution_count": null,
      "metadata": {
        "id": "THokF8aSuelR",
        "outputId": "4b6391af-505c-4416-feee-cd3efad5f5d1"
      },
      "outputs": [
        {
          "data": {
            "text/html": [
              "<div>\n",
              "<style scoped>\n",
              "    .dataframe tbody tr th:only-of-type {\n",
              "        vertical-align: middle;\n",
              "    }\n",
              "\n",
              "    .dataframe tbody tr th {\n",
              "        vertical-align: top;\n",
              "    }\n",
              "\n",
              "    .dataframe thead th {\n",
              "        text-align: right;\n",
              "    }\n",
              "</style>\n",
              "<table border=\"1\" class=\"dataframe\">\n",
              "  <thead>\n",
              "    <tr style=\"text-align: right;\">\n",
              "      <th></th>\n",
              "      <th>first_name</th>\n",
              "      <th>last_name</th>\n",
              "      <th>age</th>\n",
              "    </tr>\n",
              "  </thead>\n",
              "  <tbody>\n",
              "    <tr>\n",
              "      <th>0</th>\n",
              "      <td>Sharat</td>\n",
              "      <td>Chikkerur</td>\n",
              "      <td>38</td>\n",
              "    </tr>\n",
              "    <tr>\n",
              "      <th>1</th>\n",
              "      <td>Tom</td>\n",
              "      <td>Brady</td>\n",
              "      <td>40</td>\n",
              "    </tr>\n",
              "    <tr>\n",
              "      <th>2</th>\n",
              "      <td>Bill</td>\n",
              "      <td>Nye</td>\n",
              "      <td>62</td>\n",
              "    </tr>\n",
              "    <tr>\n",
              "      <th>3</th>\n",
              "      <td>Barack</td>\n",
              "      <td>Obama</td>\n",
              "      <td>56</td>\n",
              "    </tr>\n",
              "  </tbody>\n",
              "</table>\n",
              "</div>"
            ],
            "text/plain": [
              "  first_name  last_name  age\n",
              "0     Sharat  Chikkerur   38\n",
              "1        Tom      Brady   40\n",
              "2       Bill        Nye   62\n",
              "3     Barack      Obama   56"
            ]
          },
          "execution_count": 17,
          "metadata": {},
          "output_type": "execute_result"
        }
      ],
      "source": [
        "pd.read_sql_table('age', engine)"
      ]
    },
    {
      "cell_type": "code",
      "execution_count": null,
      "metadata": {
        "id": "C7TYhCthuelR",
        "outputId": "ca33c48f-1054-4df2-c357-93f59984d029"
      },
      "outputs": [
        {
          "data": {
            "text/html": [
              "<div>\n",
              "<style scoped>\n",
              "    .dataframe tbody tr th:only-of-type {\n",
              "        vertical-align: middle;\n",
              "    }\n",
              "\n",
              "    .dataframe tbody tr th {\n",
              "        vertical-align: top;\n",
              "    }\n",
              "\n",
              "    .dataframe thead th {\n",
              "        text-align: right;\n",
              "    }\n",
              "</style>\n",
              "<table border=\"1\" class=\"dataframe\">\n",
              "  <thead>\n",
              "    <tr style=\"text-align: right;\">\n",
              "      <th></th>\n",
              "      <th>first_name</th>\n",
              "      <th>last_name</th>\n",
              "      <th>profession</th>\n",
              "      <th>age</th>\n",
              "    </tr>\n",
              "  </thead>\n",
              "  <tbody>\n",
              "    <tr>\n",
              "      <th>0</th>\n",
              "      <td>Sharat</td>\n",
              "      <td>Chikkerur</td>\n",
              "      <td>Data scientist</td>\n",
              "      <td>38.0</td>\n",
              "    </tr>\n",
              "    <tr>\n",
              "      <th>1</th>\n",
              "      <td>Tom</td>\n",
              "      <td>Brady</td>\n",
              "      <td>Athlete</td>\n",
              "      <td>40.0</td>\n",
              "    </tr>\n",
              "    <tr>\n",
              "      <th>2</th>\n",
              "      <td>Bill</td>\n",
              "      <td>Nye</td>\n",
              "      <td>TV Personality</td>\n",
              "      <td>62.0</td>\n",
              "    </tr>\n",
              "    <tr>\n",
              "      <th>3</th>\n",
              "      <td>Bill</td>\n",
              "      <td>Gates</td>\n",
              "      <td>Philanthropist</td>\n",
              "      <td>NaN</td>\n",
              "    </tr>\n",
              "  </tbody>\n",
              "</table>\n",
              "</div>"
            ],
            "text/plain": [
              "  first_name  last_name      profession   age\n",
              "0     Sharat  Chikkerur  Data scientist  38.0\n",
              "1        Tom      Brady         Athlete  40.0\n",
              "2       Bill        Nye  TV Personality  62.0\n",
              "3       Bill      Gates  Philanthropist   NaN"
            ]
          },
          "execution_count": 18,
          "metadata": {},
          "output_type": "execute_result"
        }
      ],
      "source": [
        "pd.read_sql_query(\n",
        "\"\"\"\n",
        "select p.first_name, p.last_name, p.profession, a.age\n",
        "from\n",
        "    profession p\n",
        "    left join age a\n",
        "    on\n",
        "        p.first_name = a.first_name and\n",
        "        p.last_name = a.last_name\n",
        "\"\"\", engine)"
      ]
    },
    {
      "cell_type": "markdown",
      "metadata": {
        "collapsed": true,
        "id": "Y3yD5aUruelS"
      },
      "source": [
        "#### Scraping data from the web\n",
        "* Data on the web might be\n",
        "  * csv, excel, flat files available through a URL\n",
        "  * structured data available through an API\n",
        "  * unstructured data embedded as parts of a web page\n",
        "* Flat files\n",
        "  * read_csv(), read_excel(), read_table() support URL as location of files\n",
        "* Structure data:\n",
        "  * requests library allows us to read/write to web-apis\n",
        "* Unstructured data\n",
        "  * BeautifulSoup library allows us to parse html pages and extract information"
      ]
    },
    {
      "cell_type": "markdown",
      "metadata": {
        "id": "PCc1z0iUuelV"
      },
      "source": [
        "#### Structured data\n",
        "* RESTful APIs allow us to query data by placing http calls\n",
        "* requests library allows us to access data available through http(s) protocol\n",
        "* Example:\n",
        "  * Coindesk provides a http api to get current bitcoin prices\n",
        "    * https://www.coindesk.com/api/\n",
        "  * We can use requests library to access current price\n",
        "```python\n",
        "import requests\n",
        "URL = 'https://api.coindesk.com/v1/bpi/currentprice/USD.json'\n",
        "response = requests.get(URL)\n",
        "response.json()\n",
        "```\n",
        "* A list of open access APIs is curated at\n",
        "https://github.com/toddmotto/public-apis"
      ]
    },
    {
      "cell_type": "code",
      "execution_count": null,
      "metadata": {
        "id": "64AHI0ZZuelX",
        "outputId": "ccb56adc-8619-4b85-970e-85106b23a45a"
      },
      "outputs": [
        {
          "name": "stdout",
          "output_type": "stream",
          "text": [
            "{u'bpi': {u'USD': {u'rate': u'11,556.8150', u'code': u'USD', u'description': u'United States Dollar', u'rate_float': 11556.815}}, u'disclaimer': u'This data was produced from the CoinDesk Bitcoin Price Index (USD). Non-USD currency data converted using hourly conversion rate from openexchangerates.org', u'time': {u'updated': u'Mar 5, 2018 12:11:00 UTC', u'updateduk': u'Mar 5, 2018 at 12:11 GMT', u'updatedISO': u'2018-03-05T12:11:00+00:00'}}\n",
            "\n",
            "Current price\n",
            "{u'rate': u'11,556.8150', u'code': u'USD', u'description': u'United States Dollar', u'rate_float': 11556.815}\n"
          ]
        }
      ],
      "source": [
        "\n",
        "import requests\n",
        "URL = 'https://api.coindesk.com/v1/bpi/currentprice/USD.json'\n",
        "response = requests.get(URL)\n",
        "json = response.json()\n",
        "\n",
        "# Here is the entire result\n",
        "print(json)\n",
        "print\n",
        "\n",
        "# We can access specific fields through the json attribute\n",
        "print(\"Current price\")\n",
        "print json.get('bpi').get('USD')"
      ]
    },
    {
      "cell_type": "markdown",
      "metadata": {
        "id": "0joIFifduelb"
      },
      "source": [
        "#### Example\n",
        "* Use metaweather API to get weather in london next two days\n",
        "    * https://www.metaweather.com/api/"
      ]
    },
    {
      "cell_type": "code",
      "execution_count": null,
      "metadata": {
        "id": "sjk1Ll7xuelb",
        "outputId": "e852f635-843a-4ca2-c581-820dae12744e"
      },
      "outputs": [
        {
          "data": {
            "text/plain": [
              "[{u'latt_long': u'51.506321,-0.12714',\n",
              "  u'location_type': u'City',\n",
              "  u'title': u'London',\n",
              "  u'woeid': 44418}]"
            ]
          },
          "execution_count": 20,
          "metadata": {},
          "output_type": "execute_result"
        }
      ],
      "source": [
        "# Get geocode for London\n",
        "response =  requests.get(\n",
        "    'https://www.metaweather.com/api/location/search/?query=london')\n",
        "response.json()"
      ]
    },
    {
      "cell_type": "code",
      "execution_count": null,
      "metadata": {
        "id": "pV0i-gA6uelc",
        "outputId": "7185bc48-724b-4fe0-b570-d9d57fb3472f"
      },
      "outputs": [
        {
          "data": {
            "text/plain": [
              "[{u'air_pressure': 992.76,\n",
              "  u'applicable_date': u'2018-03-05',\n",
              "  u'created': u'2018-03-05T11:33:02.773380Z',\n",
              "  u'humidity': 83,\n",
              "  u'id': 4799651341402112,\n",
              "  u'max_temp': 9.956,\n",
              "  u'min_temp': 4.814,\n",
              "  u'predictability': 73,\n",
              "  u'the_temp': 9.415,\n",
              "  u'visibility': 8.860753201304382,\n",
              "  u'weather_state_abbr': u's',\n",
              "  u'weather_state_name': u'Showers',\n",
              "  u'wind_direction': 161.3957510869405,\n",
              "  u'wind_direction_compass': u'SSE',\n",
              "  u'wind_speed': 7.338281480407221},\n",
              " {u'air_pressure': 990.275,\n",
              "  u'applicable_date': u'2018-03-06',\n",
              "  u'created': u'2018-03-05T11:33:03.173140Z',\n",
              "  u'humidity': 81,\n",
              "  u'id': 5979707833057280,\n",
              "  u'max_temp': 8.936,\n",
              "  u'min_temp': 3.168,\n",
              "  u'predictability': 73,\n",
              "  u'the_temp': 7.789999999999999,\n",
              "  u'visibility': 9.500144158116598,\n",
              "  u'weather_state_abbr': u's',\n",
              "  u'weather_state_name': u'Showers',\n",
              "  u'wind_direction': 226.18468831465609,\n",
              "  u'wind_direction_compass': u'SW',\n",
              "  u'wind_speed': 6.0253641439560965}]"
            ]
          },
          "execution_count": 21,
          "metadata": {},
          "output_type": "execute_result"
        }
      ],
      "source": [
        "# Use geocode to access weather next two days\n",
        "response = requests.get(\n",
        "    'https://www.metaweather.com/api/location/44418')\n",
        "json = response.json()\n",
        "json.get('consolidated_weather')[0:2]"
      ]
    },
    {
      "cell_type": "markdown",
      "metadata": {
        "id": "xmkgP7_aueld"
      },
      "source": [
        "#### Scraping data from the web\n",
        "* When possible use APIs to access data\n",
        "* In instances where APIs are not available, scraping can be used to parse the contents back to structured data\n",
        "* Note:\n",
        "  * Do not violate terms of service when scraping\n",
        "  * Set a rate limit to scraping to avoid taking down website\n",
        "* Process\n",
        "  * Extract raw html\n",
        "  * Use BeautifulSoup library to parse contents\n",
        "  * Extract information from specific sections of the page"
      ]
    },
    {
      "cell_type": "code",
      "execution_count": null,
      "metadata": {
        "id": "08JGEVO1ue2-",
        "outputId": "ba7f3ea2-6d98-489c-8a42-8b798713b158"
      },
      "outputs": [
        {
          "name": "stdout",
          "output_type": "stream",
          "text": [
            "<html>  \n",
            "    <head>\n",
            "    </head>\n",
            "    <body>\n",
            "        <h1> First title </h1>\n",
            "        <h1> Second title </h1>\n",
            "\t<p class=\"content\"> First paragraph </p>\n",
            "\t<p class=\"description\"> Second paragraph </p>\n",
            "    <body>\n",
            "</html>\n",
            "\n"
          ]
        }
      ],
      "source": [
        "page = open('html.html').read()\n",
        "print(page)\n"
      ]
    },
    {
      "cell_type": "code",
      "execution_count": null,
      "metadata": {
        "id": "89Q1whuUue3Y",
        "outputId": "c6c84792-4c2a-4727-b71f-7649a0029854"
      },
      "outputs": [
        {
          "data": {
            "text/html": [
              "<html>  \n",
              "    <head>\n",
              "    </head>\n",
              "    <body>\n",
              "        <h1> First title </h1>\n",
              "        <h1> Second title </h1>\n",
              "\t<p class=\"content\"> First paragraph </p>\n",
              "\t<p class=\"description\"> Second paragraph </p>\n",
              "    <body>\n",
              "</html>\n"
            ],
            "text/plain": [
              "<IPython.core.display.HTML object>"
            ]
          },
          "metadata": {},
          "output_type": "display_data"
        }
      ],
      "source": [
        "from IPython.core.display import display, HTML\n",
        "display(HTML(page))"
      ]
    },
    {
      "cell_type": "code",
      "execution_count": null,
      "metadata": {
        "id": "MidkPiMHue3l",
        "outputId": "2f00084c-b8b9-4e63-e1cd-abaf883a6d70"
      },
      "outputs": [
        {
          "name": "stdout",
          "output_type": "stream",
          "text": [
            "<html>\n",
            " <head>\n",
            " </head>\n",
            " <body>\n",
            "  <h1>\n",
            "   First title\n",
            "  </h1>\n",
            "  <h1>\n",
            "   Second title\n",
            "  </h1>\n",
            "  <p class=\"content\">\n",
            "   First paragraph\n",
            "  </p>\n",
            "  <p class=\"description\">\n",
            "   Second paragraph\n",
            "  </p>\n",
            "  <body>\n",
            "  </body>\n",
            " </body>\n",
            "</html>\n",
            "\n"
          ]
        }
      ],
      "source": [
        "# Extracting data from the web page\n",
        "from bs4 import BeautifulSoup\n",
        "soup = BeautifulSoup(page, 'html.parser')\n",
        "print(soup.prettify())"
      ]
    },
    {
      "cell_type": "code",
      "execution_count": null,
      "metadata": {
        "id": "ObQWbBCQue3n",
        "outputId": "fbcbcc98-63a4-4bf8-c9dd-3fae5bc2ee0e"
      },
      "outputs": [
        {
          "data": {
            "text/plain": [
              "[<h1> First title </h1>, <h1> Second title </h1>]"
            ]
          },
          "execution_count": 25,
          "metadata": {},
          "output_type": "execute_result"
        }
      ],
      "source": [
        "soup.find_all('h1')"
      ]
    },
    {
      "cell_type": "code",
      "execution_count": null,
      "metadata": {
        "id": "7BwrVO2sue4e",
        "outputId": "a7b2f3f9-9514-4b96-b777-5b3b4f1a469c"
      },
      "outputs": [
        {
          "name": "stdout",
          "output_type": "stream",
          "text": [
            " First title \n",
            " Second title \n"
          ]
        }
      ],
      "source": [
        "#Extracting content of the heading\n",
        "for heading in soup.find_all('h1'):\n",
        "    print(heading.get_text())"
      ]
    },
    {
      "cell_type": "code",
      "execution_count": null,
      "metadata": {
        "id": "RyqU6Vdcue4h",
        "outputId": "c44d8557-7ad9-4e35-d02c-b0cf9b7fec28"
      },
      "outputs": [
        {
          "data": {
            "text/plain": [
              "[<p class=\"content\"> First paragraph </p>,\n",
              " <p class=\"description\"> Second paragraph </p>]"
            ]
          },
          "execution_count": 27,
          "metadata": {},
          "output_type": "execute_result"
        }
      ],
      "source": [
        "# We can use attributes of the tag to extract specific tags\n",
        "soup.find_all('p')"
      ]
    },
    {
      "cell_type": "code",
      "execution_count": null,
      "metadata": {
        "id": "ZYlpMU-8ue4k",
        "outputId": "e178849f-393b-4840-b58e-4c4b3360fe58"
      },
      "outputs": [
        {
          "data": {
            "text/plain": [
              "[<p class=\"content\"> First paragraph </p>]"
            ]
          },
          "execution_count": 28,
          "metadata": {},
          "output_type": "execute_result"
        }
      ],
      "source": [
        "# We can use attributes of the tag to extract specific tags\n",
        "soup.find_all('p', class_=\"content\")"
      ]
    },
    {
      "cell_type": "code",
      "execution_count": null,
      "metadata": {
        "id": "5N95Ee_Pue4s"
      },
      "outputs": [],
      "source": []
    }
  ],
  "metadata": {
    "celltoolbar": "Slideshow",
    "kernelspec": {
      "display_name": "Python 3",
      "language": "python",
      "name": "python3"
    },
    "language_info": {
      "codemirror_mode": {
        "name": "ipython",
        "version": 3
      },
      "file_extension": ".py",
      "mimetype": "text/x-python",
      "name": "python",
      "nbconvert_exporter": "python",
      "pygments_lexer": "ipython3",
      "version": "3.7.0"
    },
    "colab": {
      "provenance": [],
      "include_colab_link": true
    }
  },
  "nbformat": 4,
  "nbformat_minor": 0
}